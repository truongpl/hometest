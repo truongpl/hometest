{
 "cells": [
  {
   "cell_type": "code",
   "execution_count": null,
   "id": "dedb160f-aec0-4c65-a774-0fe8e989bb08",
   "metadata": {},
   "outputs": [],
   "source": [
    "import pandas as pd\n",
    "import pickle\n",
    "import random\n",
    "import json\n",
    "from openai_utils import (\n",
    "    billing_calculator,\n",
    "    refine_message,\n",
    "    print_distribution,\n",
    "    num_assistant_tokens_from_messages,\n",
    "    num_tokens_from_messages,\n",
    "    validate_formatting\n",
    ")"
   ]
  },
  {
   "cell_type": "code",
   "execution_count": 4,
   "id": "6e1b4608-570d-48fd-9ae7-0aeb28156ef9",
   "metadata": {},
   "outputs": [],
   "source": [
    "feature_path = \"./../dataset/iot_pmfp_data.feather\"\n",
    "label_path = \"./../dataset/iot_pmfp_labels.feather\""
   ]
  },
  {
   "cell_type": "code",
   "execution_count": 5,
   "id": "ca2705ba-80d7-4ee9-8ab5-60fbf9427504",
   "metadata": {},
   "outputs": [],
   "source": [
    "feature = pd.read_feather(feature_path)\n",
    "label = pd.read_feather(label_path)"
   ]
  },
  {
   "cell_type": "code",
   "execution_count": 6,
   "id": "2b2de0bd-c6b4-4026-b3c3-5576b8530c5b",
   "metadata": {},
   "outputs": [],
   "source": [
    "temp_feature = feature.merge(label, on=['datetime', 'machineID'], how='left')\n",
    "label['failure_comp'] = label[['failure_comp1', 'failure_comp2', 'failure_comp3', 'failure_comp4']].any(axis=1)\n",
    "label['result'] = label.apply(lambda row: 'Abnormal' if row['failure_comp'] != row['failure'] else 'Normal', axis=1)"
   ]
  },
  {
   "cell_type": "code",
   "execution_count": 9,
   "id": "6f614c91",
   "metadata": {},
   "outputs": [
    {
     "name": "stderr",
     "output_type": "stream",
     "text": [
      "/tmp/ipykernel_2452492/4147203858.py:19: SettingWithCopyWarning: \n",
      "A value is trying to be set on a copy of a slice from a DataFrame.\n",
      "Try using .loc[row_indexer,col_indexer] = value instead\n",
      "\n",
      "See the caveats in the documentation: https://pandas.pydata.org/pandas-docs/stable/user_guide/indexing.html#returning-a-view-versus-a-copy\n",
      "  df['time_to_fail'] = list(reversed(rul))\n"
     ]
    },
    {
     "name": "stdout",
     "output_type": "stream",
     "text": [
      "100\n"
     ]
    }
   ],
   "source": [
    "# Got from kaggle notebook\n",
    "temp_feature['time_to_fail'] = None\n",
    "tempdf = list()\n",
    "for machine_id in range(1,101):\n",
    "    df = temp_feature[temp_feature['machineID'] == machine_id]\n",
    "    df.reset_index(drop=True, inplace=True)\n",
    "    rul = []\n",
    "    cont = len(df['failure']) - 1\n",
    "    diff = 0\n",
    "    while cont >= df.index.min():\n",
    "        if df['failure'][cont] == False:\n",
    "            diff = diff + 1\n",
    "            rul.append(diff)\n",
    "        else:\n",
    "            rul.append(0)\n",
    "            diff = 0\n",
    "        diff = rul[-1]\n",
    "        cont = cont - 1\n",
    "    df['time_to_fail'] = list(reversed(rul))\n",
    "    tempdf.append(df)\n",
    "\n",
    "print(len(tempdf))"
   ]
  },
  {
   "cell_type": "code",
   "execution_count": 10,
   "id": "9c02d15e",
   "metadata": {},
   "outputs": [],
   "source": [
    "telemetry = pd.DataFrame()\n",
    "for df in tempdf:\n",
    "    telemetry = pd.concat([telemetry, df], axis=0)\n",
    "    \n",
    "# Drop unused columns\n",
    "telemetry.drop(['anomaly_x', 'failure_comp1', 'failure_comp2', 'failure_comp3','failure_comp4'], axis=1, inplace=True)\n",
    "telemetry.drop(['error1', 'error2', 'error3', 'error4','error5'], axis=1, inplace=True)"
   ]
  },
  {
   "cell_type": "code",
   "execution_count": 12,
   "id": "12d2fa81-7f62-4852-9a86-8ae31c5adb29",
   "metadata": {},
   "outputs": [],
   "source": [
    "def create_finetune_data(data_frame):\n",
    "    # Loop through machine id for easier processing\n",
    "    train_data = list()\n",
    "    for machine_id in data_frame['machineID'].unique():\n",
    "        print(\"PROCESSING FOR MACHINE ID = \", machine_id)\n",
    "        df = data_frame[data_frame['machineID'] == machine_id]\n",
    "        # Process by time_to_fail index\n",
    "        ttf_index = df.loc[df[\"time_to_fail\"] == 0].index\n",
    "        prev_idx = 0\n",
    "\n",
    "        for i in range(0, len(ttf_index)):\n",
    "            # [TBD] Need to troubleshoot the boundary problem, in this case i will miss the last record data\n",
    "            create_negative = True\n",
    "            short_length = True\n",
    "            if ttf_index[i]-24 < 0 or ttf_index[i]-24 < prev_idx:\n",
    "                negative_range = None\n",
    "                create_negative = False\n",
    "                short_length = False\n",
    "                positive_range = [prev_idx, ttf_index[i]]\n",
    "                \n",
    "            else:\n",
    "                negative_range = [prev_idx,ttf_index[i] - 24]\n",
    "                positive_range = [ttf_index[i] - 24, ttf_index[i]]\n",
    "\n",
    "            # Pick some single record first\n",
    "            p = 0\n",
    "            while p < 10:\n",
    "                if create_negative == True:\n",
    "                    # Negative data\n",
    "                    index = random.randint(negative_range[0],negative_range[1])\n",
    "                    data = df.iloc[index]\n",
    "                    train_record = \",\".join([str(data[\"volt\"]),str(data[\"rotate\"]),str(data[\"pressure\"]),str(data[\"vibration\"]),str(data[\"age\"])])\n",
    "                    train_label = 0\n",
    "                    ttf_label = ttf_index[i] - index\n",
    "\n",
    "                    line = train_record + \",\" + str(train_label) + \",\" + str(ttf_label) + \"\\n\"\n",
    "                    train_data.append((train_record,train_label, ttf_label, index)) # Only use for debugging\n",
    "\n",
    "                # Positive data\n",
    "                index = random.randint(positive_range[0],positive_range[1])\n",
    "                data = df.iloc[index]\n",
    "                train_record = \",\".join([str(data[\"volt\"]),str(data[\"rotate\"]),str(data[\"pressure\"]),str(data[\"vibration\"]),str(data[\"age\"])])\n",
    "                train_label = 1\n",
    "                ttf_label = ttf_index[i] - index\n",
    "\n",
    "                line = train_record + \",\" + str(train_label) + \",\" + str(ttf_label) + \"\\n\"                \n",
    "                train_data.append((train_record, train_label, ttf_label, index))\n",
    "                \n",
    "                p += 1\n",
    "\n",
    "            # Pick a list of record\n",
    "            p = 0\n",
    "            while p < 5:\n",
    "                if create_negative == True:\n",
    "                    # Negative data\n",
    "                    index = random.randint(negative_range[0],negative_range[1])\n",
    "                    list_length = random.randint(1,24)\n",
    "                    ttf_label = ttf_index[i] - index\n",
    "\n",
    "                    # print(\"Create negative list, start from \", index, \" with length = \", list_length, ttf_label > 24)\n",
    "                    train_record = \"\"\n",
    "                    for sub_index in range(0, list_length):\n",
    "                        data = df.iloc[index+sub_index]\n",
    "                        train_record += \",\".join([str(data[\"volt\"]),str(data[\"rotate\"]),str(data[\"pressure\"]),str(data[\"vibration\"]),str(data[\"age\"])])+\"\\n\"\n",
    "                        train_label = 0\n",
    "\n",
    "                    line = train_record + \",\" + str(train_label) + \",\" + str(ttf_label) + \"\\n\"                   \n",
    "                    train_data.append((train_record,train_label, ttf_label, index)) # Index Only use for debugging\n",
    "\n",
    "                # Positive data, random an integer, and a list length, pick list from that integer to the positive[1]\n",
    "                index = random.randint(positive_range[0],positive_range[1])\n",
    "\n",
    "                if short_length == False:\n",
    "                    list_length = random.randint(1,24)\n",
    "                else:\n",
    "                    list_length = random.randint(0,ttf_index[i])\n",
    "                ttf_label = ttf_index[i] - index\n",
    "                # print(\"Create positive list, start from \", index - list_length, \" with start_index = \", index, \"ttf label = \", ttf_label, ttf_label <= 24)\n",
    "                train_record = \"\"\n",
    "                for sub_index in range(list_length, 0, -1):\n",
    "                    data = df.iloc[index-sub_index]\n",
    "                    train_record += \",\".join([str(data[\"volt\"]),str(data[\"rotate\"]),str(data[\"pressure\"]),str(data[\"vibration\"]),str(data[\"age\"])]) + \"\\n\"\n",
    "                    train_label = 1\n",
    "\n",
    "                line = train_record + \",\" + str(train_label) + \",\" + str(ttf_label) + \"\\n\"\n",
    "                train_data.append((train_record, train_label, ttf_label, index))\n",
    "                \n",
    "                p += 1\n",
    "            prev_idx = ttf_index[i]\n",
    "    return train_data"
   ]
  },
  {
   "cell_type": "code",
   "execution_count": 13,
   "id": "36775139-34b8-48a6-a128-02f5d5afec2b",
   "metadata": {},
   "outputs": [
    {
     "name": "stdout",
     "output_type": "stream",
     "text": [
      "PROCESSING FOR MACHINE ID =  1\n",
      "PROCESSING FOR MACHINE ID =  2\n",
      "PROCESSING FOR MACHINE ID =  3\n",
      "PROCESSING FOR MACHINE ID =  4\n",
      "PROCESSING FOR MACHINE ID =  5\n",
      "PROCESSING FOR MACHINE ID =  6\n",
      "PROCESSING FOR MACHINE ID =  7\n",
      "PROCESSING FOR MACHINE ID =  8\n",
      "PROCESSING FOR MACHINE ID =  9\n",
      "PROCESSING FOR MACHINE ID =  10\n",
      "PROCESSING FOR MACHINE ID =  11\n",
      "PROCESSING FOR MACHINE ID =  12\n",
      "PROCESSING FOR MACHINE ID =  13\n",
      "PROCESSING FOR MACHINE ID =  14\n",
      "PROCESSING FOR MACHINE ID =  15\n",
      "PROCESSING FOR MACHINE ID =  16\n",
      "PROCESSING FOR MACHINE ID =  17\n",
      "PROCESSING FOR MACHINE ID =  18\n",
      "PROCESSING FOR MACHINE ID =  19\n",
      "PROCESSING FOR MACHINE ID =  20\n",
      "PROCESSING FOR MACHINE ID =  21\n",
      "PROCESSING FOR MACHINE ID =  22\n",
      "PROCESSING FOR MACHINE ID =  23\n",
      "PROCESSING FOR MACHINE ID =  24\n",
      "PROCESSING FOR MACHINE ID =  25\n",
      "PROCESSING FOR MACHINE ID =  26\n",
      "PROCESSING FOR MACHINE ID =  27\n",
      "PROCESSING FOR MACHINE ID =  28\n",
      "PROCESSING FOR MACHINE ID =  29\n",
      "PROCESSING FOR MACHINE ID =  30\n",
      "PROCESSING FOR MACHINE ID =  31\n",
      "PROCESSING FOR MACHINE ID =  32\n",
      "PROCESSING FOR MACHINE ID =  33\n",
      "PROCESSING FOR MACHINE ID =  34\n",
      "PROCESSING FOR MACHINE ID =  35\n",
      "PROCESSING FOR MACHINE ID =  36\n",
      "PROCESSING FOR MACHINE ID =  37\n",
      "PROCESSING FOR MACHINE ID =  38\n",
      "PROCESSING FOR MACHINE ID =  39\n",
      "PROCESSING FOR MACHINE ID =  40\n",
      "PROCESSING FOR MACHINE ID =  41\n",
      "PROCESSING FOR MACHINE ID =  42\n",
      "PROCESSING FOR MACHINE ID =  43\n",
      "PROCESSING FOR MACHINE ID =  44\n",
      "PROCESSING FOR MACHINE ID =  45\n",
      "PROCESSING FOR MACHINE ID =  46\n",
      "PROCESSING FOR MACHINE ID =  47\n",
      "PROCESSING FOR MACHINE ID =  48\n",
      "PROCESSING FOR MACHINE ID =  49\n",
      "PROCESSING FOR MACHINE ID =  50\n",
      "PROCESSING FOR MACHINE ID =  51\n",
      "PROCESSING FOR MACHINE ID =  52\n",
      "PROCESSING FOR MACHINE ID =  53\n",
      "PROCESSING FOR MACHINE ID =  54\n",
      "PROCESSING FOR MACHINE ID =  55\n",
      "PROCESSING FOR MACHINE ID =  56\n",
      "PROCESSING FOR MACHINE ID =  57\n",
      "PROCESSING FOR MACHINE ID =  58\n",
      "PROCESSING FOR MACHINE ID =  59\n",
      "PROCESSING FOR MACHINE ID =  60\n",
      "PROCESSING FOR MACHINE ID =  61\n",
      "PROCESSING FOR MACHINE ID =  62\n",
      "PROCESSING FOR MACHINE ID =  63\n",
      "PROCESSING FOR MACHINE ID =  64\n",
      "PROCESSING FOR MACHINE ID =  65\n",
      "PROCESSING FOR MACHINE ID =  66\n",
      "PROCESSING FOR MACHINE ID =  67\n",
      "PROCESSING FOR MACHINE ID =  68\n",
      "PROCESSING FOR MACHINE ID =  69\n",
      "PROCESSING FOR MACHINE ID =  70\n",
      "PROCESSING FOR MACHINE ID =  71\n",
      "PROCESSING FOR MACHINE ID =  72\n",
      "PROCESSING FOR MACHINE ID =  73\n",
      "PROCESSING FOR MACHINE ID =  74\n",
      "PROCESSING FOR MACHINE ID =  75\n",
      "PROCESSING FOR MACHINE ID =  76\n",
      "PROCESSING FOR MACHINE ID =  77\n",
      "PROCESSING FOR MACHINE ID =  78\n",
      "PROCESSING FOR MACHINE ID =  79\n",
      "PROCESSING FOR MACHINE ID =  80\n",
      "PROCESSING FOR MACHINE ID =  81\n",
      "PROCESSING FOR MACHINE ID =  82\n",
      "PROCESSING FOR MACHINE ID =  83\n",
      "PROCESSING FOR MACHINE ID =  84\n",
      "PROCESSING FOR MACHINE ID =  85\n",
      "PROCESSING FOR MACHINE ID =  86\n",
      "PROCESSING FOR MACHINE ID =  87\n",
      "PROCESSING FOR MACHINE ID =  88\n",
      "PROCESSING FOR MACHINE ID =  89\n",
      "PROCESSING FOR MACHINE ID =  90\n",
      "PROCESSING FOR MACHINE ID =  91\n",
      "PROCESSING FOR MACHINE ID =  92\n",
      "PROCESSING FOR MACHINE ID =  93\n",
      "PROCESSING FOR MACHINE ID =  94\n",
      "PROCESSING FOR MACHINE ID =  95\n",
      "PROCESSING FOR MACHINE ID =  96\n",
      "PROCESSING FOR MACHINE ID =  97\n",
      "PROCESSING FOR MACHINE ID =  98\n",
      "PROCESSING FOR MACHINE ID =  99\n",
      "PROCESSING FOR MACHINE ID =  100\n"
     ]
    }
   ],
   "source": [
    "train_data = create_finetune_data(telemetry)"
   ]
  },
  {
   "cell_type": "code",
   "execution_count": 14,
   "id": "f76371ab-27df-4019-aa81-2710955eb54b",
   "metadata": {},
   "outputs": [
    {
     "data": {
      "text/plain": [
       "True"
      ]
     },
     "execution_count": 14,
     "metadata": {},
     "output_type": "execute_result"
    }
   ],
   "source": [
    "# Dump and load data and recheck for further usage\n",
    "with open(\"feature_list_v1.pkl\",\"wb\") as f:\n",
    "    pickle.dump(train_data,f)\n",
    "with open(\"feature_list_v1.pkl\",\"rb\") as f:\n",
    "    raw_data = pickle.load(f)\n",
    "train_data == raw_data"
   ]
  },
  {
   "cell_type": "code",
   "execution_count": 16,
   "id": "50b5c87e-1b99-4800-a003-b770231b3711",
   "metadata": {},
   "outputs": [],
   "source": [
    "system_prompt = \"\"\"You are an assistant that only speaks JSON. Do not write normal text. I will provide a timeseries data, the first line is header. You must return follow predictions:\n",
    "Does the machine need to be maintance for the next 24h. Yes or No,\n",
    "If yes, what is the time?\"\"\"\n",
    "\n",
    "base_record = {\"messages\": [{\"role\": \"system\", \"content\": system_prompt}]}\n",
    "headers = \"volt,rotate,pressure,vibration,age\"+\"\\n\"\n",
    "\n",
    "def create_finetune_data(train_data):\n",
    "    result = list()\n",
    "    for i in train_data:\n",
    "        record = {\"messages\": [{\"role\": \"system\", \"content\": system_prompt}]}\n",
    "        user_message = {\n",
    "            \"role\": \"user\",\n",
    "            \"content\": headers + i[0]\n",
    "        }\n",
    "\n",
    "        is_maintenance = i[1]\n",
    "        if is_maintenance == 0:\n",
    "            bot_content = {\n",
    "                \"need_maintenance\": i[1],\n",
    "            }\n",
    "        else:\n",
    "            bot_content = {\n",
    "                \"need_maintenance\": i[1],\n",
    "                \"predict_ttf\": i[3]\n",
    "            }gpt_data[0]\n",
    "        bot_content = json.dumps(bot_content)\n",
    "        bot_message = {\n",
    "            \"role\": \"assistant\",\n",
    "            \"content\": bot_content\n",
    "        }\n",
    "\n",
    "        record[\"messages\"].append(user_message)\n",
    "        record[\"messages\"].append(bot_message)\n",
    "\n",
    "        result.append(record)\n",
    "    return result"
   ]
  },
  {
   "cell_type": "code",
   "execution_count": 19,
   "id": "03673b39-50ee-4a11-81d8-6f8999936096",
   "metadata": {},
   "outputs": [],
   "source": [
    "gpt_data = create_finetune_data(train_data)"
   ]
  },
  {
   "cell_type": "code",
   "execution_count": 21,
   "id": "e0509a35-2367-4dc9-809b-352227c15120",
   "metadata": {},
   "outputs": [
    {
     "name": "stdout",
     "output_type": "stream",
     "text": [
      "No errors found\n"
     ]
    }
   ],
   "source": [
    "validate_formatting(gpt_data)"
   ]
  },
  {
   "cell_type": "code",
   "execution_count": 22,
   "id": "4914f0bf-983a-4482-94b6-73e28212d911",
   "metadata": {},
   "outputs": [
    {
     "data": {
      "text/plain": [
       "21300"
      ]
     },
     "execution_count": 22,
     "metadata": {},
     "output_type": "execute_result"
    }
   ],
   "source": [
    "random.shuffle(gpt_data)\n",
    "len(gpt_data)"
   ]
  },
  {
   "cell_type": "code",
   "execution_count": 24,
   "id": "68a222c7-43ec-4ec2-af20-76d1a9f67241",
   "metadata": {},
   "outputs": [
    {
     "name": "stdout",
     "output_type": "stream",
     "text": [
      "1065\n",
      "20235\n"
     ]
    }
   ],
   "source": [
    "l = len(gpt_data)\n",
    "train_length = int(0.05*l)\n",
    "train_set = gpt_data[:train_length]\n",
    "test_set = gpt_data[train_length:]\n",
    "\n",
    "print(len(train_set))\n",
    "print(len(test_set))"
   ]
  },
  {
   "cell_type": "code",
   "execution_count": 25,
   "id": "3c19a108-52fe-4644-86ca-fdf4c45d84bd",
   "metadata": {},
   "outputs": [
    {
     "name": "stdout",
     "output_type": "stream",
     "text": [
      "Num examples missing system message: 0\n",
      "Num examples missing user message: 0\n",
      "\n",
      "#### Distribution of num_messages_per_example:\n",
      "min / max: 3, 3\n",
      "mean / median: 3.0, 3.0\n",
      "p5 / p95: 3.0, 3.0\n",
      "\n",
      "#### Distribution of num_total_tokens_per_example:\n",
      "min / max: 124, 3275\n",
      "mean / median: 216.4742857142857, 133.0\n",
      "p5 / p95: 125.0, 442.0\n",
      "\n",
      "#### Distribution of num_assistant_tokens_per_example:\n",
      "min / max: 8, 17\n",
      "mean / median: 12.36244131455399, 8.0\n",
      "p5 / p95: 8.0, 17.0\n",
      "\n",
      "0 examples may be over the 4096 token limit, they will be truncated during fine-tuning\n",
      "Dataset has ~189415 tokens that will be charged for during training\n",
      "By default, you'll train for 2 epochs on this dataset\n",
      "By default, you'll be charged for ~378830 tokens\n"
     ]
    }
   ],
   "source": [
    "c,r = refine_message(train_set)\n",
    "billing_calculator(r,c)"
   ]
  },
  {
   "cell_type": "code",
   "execution_count": null,
   "id": "2b883edf-61d1-457f-84f7-76559bffca48",
   "metadata": {},
   "outputs": [],
   "source": []
  }
 ],
 "metadata": {
  "kernelspec": {
   "display_name": "Python 3 (ipykernel)",
   "language": "python",
   "name": "python3"
  },
  "language_info": {
   "codemirror_mode": {
    "name": "ipython",
    "version": 3
   },
   "file_extension": ".py",
   "mimetype": "text/x-python",
   "name": "python",
   "nbconvert_exporter": "python",
   "pygments_lexer": "ipython3",
   "version": "3.8.10"
  }
 },
 "nbformat": 4,
 "nbformat_minor": 5
}
